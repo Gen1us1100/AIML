{
  "cells": [
    {
      "cell_type": "markdown",
      "metadata": {
        "id": "dohJIqGBmSR1"
      },
      "source": [
        "# Vector Database from scratch\n",
        "A vector database is a collection of data stored as mathematical representations. Vector databases make it easier for machine learning models to remember previous inputs, allowing machine learning to be used to power search, recommendations, and text generation use-cases. Data can be identified based on similarity metrics instead of exact matches, making it possible for a computer model to understand data contextually."
      ]
    },
    {
      "cell_type": "code",
      "execution_count": 4,
      "metadata": {
        "id": "NbmLwH_2mD0Q"
      },
      "outputs": [],
      "source": [
        "import torch"
      ]
    },
    {
      "cell_type": "code",
      "execution_count": 47,
      "metadata": {
        "id": "q8TFu-wKmRA9"
      },
      "outputs": [],
      "source": [
        "from collections import defaultdict\n",
        "import hashlib as cryptolib\n",
        "import numpy as np\n",
        "'''\n",
        "The VectorDB class is the core class which will contain the documents as well as indexing mechanism for\n",
        "faster retrieval. and the class will also provide methods for similarity checking\n",
        "Documents are largely text documents embedded as vectors.\n",
        "Structure for documents:\n",
        "document {\n",
        "  \"id\",\n",
        "  \"text_embedding\"\n",
        "}\n",
        "\n",
        "'''\n",
        "class VectorDB:\n",
        "\n",
        "  def __init__(self):\n",
        "    self.vector_documents = {}\n",
        "    self.document_ids = set()\n",
        "\n",
        "  def add_document(self,document):\n",
        "    # print(\"adding\",document)\n",
        "    doc_id, doc_embedding = document['id'],document['text_embedding']\n",
        "    # print(doc_id,doc_embedding)\n",
        "    if doc_id not in self.document_ids:\n",
        "      self.document_ids.add(doc_id)\n",
        "      self.vector_documents[doc_id] = doc_embedding\n",
        "    else:\n",
        "      # if text is altered the hash is different, so ig no need of this?\n",
        "      # update = input(\"Document already exists do you want to update?(y/n)\")\n",
        "      # if update == 'y':\n",
        "      #   self.vector_documents[doc_id] = doc_embedding\n",
        "      # else:\n",
        "      print(f\"Document with {doc_id} already exists in Database, Skipping\")\n",
        "\n",
        "\n",
        "  def create_document(self,text,embedding):\n",
        "    document_hash = cryptolib.md5(text.encode('utf-8')).hexdigest()\n",
        "    new_document = {\n",
        "        'id': document_hash,\n",
        "        'text_embedding' : embedding\n",
        "    }\n",
        "    # print(document_hash,text)\n",
        "    self.add_document(new_document)\n",
        "\n",
        "  def find_similarity(self,embedding1,embedding2):\n",
        "    # we will use cosine similarity for now\n",
        "    cos_similarity_score = np.dot(embedding1,embedding2) / (np.linalg.norm(embedding1) * np.linalg.norm(embedding2))\n",
        "    return cos_similarity_score\n",
        "\n",
        "  def find_similar_documents(self,query_document,similarity_threshold=0.5):\n",
        "    similar_docs = []\n",
        "    # This part need optimization for scalability\n",
        "    # currently it searches entire DB linearly which is very slow\n",
        "    for id,text_embedding in self.vector_documents.items():\n",
        "\n",
        "      similarity = self.find_similarity(query_document['text_embedding'],text_embedding.flatten())\n",
        "      if similarity > similarity_threshold:# 0.5 is arbitrary right now change later\n",
        "        similar_docs.append((id,similarity))\n",
        "    # Sort in descending order of similarity\n",
        "    similar_docs.sort(key=lambda x:x[1],reverse=True)\n",
        "    return similar_docs\n",
        "  def __len__(self):\n",
        "      return len(self.vector_documents)\n"
      ]
    },
    {
      "cell_type": "code",
      "execution_count": 48,
      "metadata": {
        "id": "5LHwKc1tzlip"
      },
      "outputs": [],
      "source": [
        "myDB = VectorDB()\n"
      ]
    },
    {
      "cell_type": "code",
      "execution_count": 49,
      "metadata": {
        "id": "nvLuahV50K9m"
      },
      "outputs": [],
      "source": [
        "from sklearn.feature_extraction.text import TfidfVectorizer as tfidfV\n"
      ]
    },
    {
      "cell_type": "code",
      "execution_count": 50,
      "metadata": {
        "colab": {
          "base_uri": "https://localhost:8080/"
        },
        "id": "Yf3WgcL41guK",
        "outputId": "0b83ca91-3cac-4803-80ac-ced67eb44579"
      },
      "outputs": [
        {
          "output_type": "execute_result",
          "data": {
            "text/plain": [
              "array([0.70710678, 0.70710678])"
            ]
          },
          "metadata": {},
          "execution_count": 50
        }
      ],
      "source": [
        "docs = [\"hello world!\",\"ello Sam!\",\"Sam is part of world!\",\"ello Sameer!\",\"hellow Sam!\"]\n",
        "docs2 = [\"ello world!\"]\n",
        "my_vec = tfidfV()\n",
        "my_vec.fit(docs)\n",
        "embedding = my_vec.transform(docs2)\n",
        "embedding.data"
      ]
    },
    {
      "cell_type": "code",
      "execution_count": 51,
      "metadata": {
        "colab": {
          "base_uri": "https://localhost:8080/",
          "height": 35
        },
        "id": "vvDfXDw25wyX",
        "outputId": "823ce0fb-4608-4021-f42d-fe0cd41ddf99"
      },
      "outputs": [
        {
          "output_type": "execute_result",
          "data": {
            "text/plain": [
              "'ello world!'"
            ],
            "application/vnd.google.colaboratory.intrinsic+json": {
              "type": "string"
            }
          },
          "metadata": {},
          "execution_count": 51
        }
      ],
      "source": [
        "docs2[0]"
      ]
    },
    {
      "cell_type": "code",
      "execution_count": 52,
      "metadata": {
        "id": "mIJoDKl-zp8W"
      },
      "outputs": [],
      "source": [
        "myDB.create_document(docs2[0],torch.tensor(embedding.toarray()))"
      ]
    },
    {
      "cell_type": "code",
      "execution_count": 53,
      "metadata": {
        "colab": {
          "base_uri": "https://localhost:8080/"
        },
        "id": "uxnMV8QG_Km2",
        "outputId": "3d659315-16c9-4a48-a251-b71aa0319d31"
      },
      "outputs": [
        {
          "output_type": "execute_result",
          "data": {
            "text/plain": [
              "1"
            ]
          },
          "metadata": {},
          "execution_count": 53
        }
      ],
      "source": [
        "torch.tensor(embedding.toarray()).flatten().dim()"
      ]
    },
    {
      "cell_type": "code",
      "execution_count": 54,
      "metadata": {
        "colab": {
          "base_uri": "https://localhost:8080/"
        },
        "id": "nGqS6NPf3AmM",
        "outputId": "cbb7861e-2551-44f7-8f38-73ea3f60ddff"
      },
      "outputs": [
        {
          "output_type": "stream",
          "name": "stdout",
          "text": [
            "{'6e9bc20c0d778a0740d3e0396689909b': tensor([[0.7071, 0.0000, 0.0000, 0.0000, 0.0000, 0.0000, 0.0000, 0.0000, 0.7071]],\n",
            "       dtype=torch.float64)}\n"
          ]
        }
      ],
      "source": [
        "print(myDB.vector_documents)"
      ]
    },
    {
      "cell_type": "code",
      "execution_count": 55,
      "metadata": {
        "colab": {
          "base_uri": "https://localhost:8080/"
        },
        "id": "E-No877846_o",
        "outputId": "0e340040-f621-4050-bec5-a92ea22ba157"
      },
      "outputs": [
        {
          "output_type": "stream",
          "name": "stdout",
          "text": [
            "1.0000000000000002\n"
          ]
        }
      ],
      "source": [
        "print(myDB.find_similarity(torch.tensor(embedding.toarray()).flatten(),torch.tensor(embedding.toarray()).flatten()))"
      ]
    },
    {
      "cell_type": "code",
      "execution_count": 56,
      "metadata": {
        "id": "FtzUVwNT93Q7"
      },
      "outputs": [],
      "source": [
        "for doc,embed in zip(docs,my_vec.transform(docs).toarray()):\n",
        "  # print(tor.tensor(embed))\n",
        "  myDB.create_document(doc,torch.tensor(embed))\n",
        "\n"
      ]
    },
    {
      "cell_type": "code",
      "execution_count": 57,
      "metadata": {
        "colab": {
          "base_uri": "https://localhost:8080/"
        },
        "id": "CrtBs0TwEyAx",
        "outputId": "c1e1cd5f-0d60-4c38-d62a-1adc3fcbded3"
      },
      "outputs": [
        {
          "output_type": "execute_result",
          "data": {
            "text/plain": [
              "{'6e9bc20c0d778a0740d3e0396689909b': tensor([[0.7071, 0.0000, 0.0000, 0.0000, 0.0000, 0.0000, 0.0000, 0.0000, 0.7071]],\n",
              "        dtype=torch.float64),\n",
              " 'fc3ff98e8c6a0d3087d515c0473f8677': tensor([0.0000, 0.7783, 0.0000, 0.0000, 0.0000, 0.0000, 0.0000, 0.0000, 0.6279],\n",
              "        dtype=torch.float64),\n",
              " 'ad47f4f07b6631c98d9fd9af32dc4257': tensor([0.7694, 0.0000, 0.0000, 0.0000, 0.0000, 0.0000, 0.6387, 0.0000, 0.0000],\n",
              "        dtype=torch.float64),\n",
              " '12858b34d0a1ae7f62cab1726b8304c6': tensor([0.0000, 0.0000, 0.0000, 0.4939, 0.4939, 0.4939, 0.3308, 0.0000, 0.3985],\n",
              "        dtype=torch.float64),\n",
              " 'ed42f068740c5dc1b4071dd04c657444': tensor([0.6279, 0.0000, 0.0000, 0.0000, 0.0000, 0.0000, 0.0000, 0.7783, 0.0000],\n",
              "        dtype=torch.float64),\n",
              " '40b72a3c4586ce1b6d5cc704161d2422': tensor([0.0000, 0.0000, 0.8309, 0.0000, 0.0000, 0.0000, 0.5565, 0.0000, 0.0000],\n",
              "        dtype=torch.float64)}"
            ]
          },
          "metadata": {},
          "execution_count": 57
        }
      ],
      "source": [
        "myDB.vector_documents"
      ]
    },
    {
      "cell_type": "code",
      "execution_count": 58,
      "metadata": {
        "id": "ljcRxwv0HUS7"
      },
      "outputs": [],
      "source": [
        "input_list = [\"ello Sam!\"]"
      ]
    },
    {
      "cell_type": "code",
      "execution_count": 59,
      "metadata": {
        "id": "ODqmx9avIiOV"
      },
      "outputs": [],
      "source": [
        "query = {'id':1,'text_embedding':torch.tensor(my_vec.transform(input_list).toarray()).flatten()}"
      ]
    },
    {
      "cell_type": "code",
      "execution_count": 60,
      "metadata": {
        "colab": {
          "base_uri": "https://localhost:8080/"
        },
        "id": "v99rKIMJI3mn",
        "outputId": "785ac2f4-6dc6-45f3-8e92-1fd745588f2d"
      },
      "outputs": [
        {
          "output_type": "execute_result",
          "data": {
            "text/plain": [
              "1"
            ]
          },
          "metadata": {},
          "execution_count": 60
        }
      ],
      "source": [
        "query['text_embedding'].dim()"
      ]
    },
    {
      "cell_type": "code",
      "execution_count": 61,
      "metadata": {
        "colab": {
          "base_uri": "https://localhost:8080/"
        },
        "id": "4WdLZUq2GJFZ",
        "outputId": "4a9a3542-2ad3-47f0-a950-e0cd569fac3a"
      },
      "outputs": [
        {
          "output_type": "stream",
          "name": "stdout",
          "text": [
            "[('ad47f4f07b6631c98d9fd9af32dc4257', 1.0), ('6e9bc20c0d778a0740d3e0396689909b', 0.5440812430630018)]\n"
          ]
        }
      ],
      "source": [
        "print(myDB.find_similar_documents(query))"
      ]
    },
    {
      "cell_type": "code",
      "execution_count": 62,
      "metadata": {
        "colab": {
          "base_uri": "https://localhost:8080/"
        },
        "id": "kJ7fg3IyM0Cu",
        "outputId": "55ca2e8a-008f-4ef9-aff6-48cc8efd8ac6"
      },
      "outputs": [
        {
          "output_type": "stream",
          "name": "stdout",
          "text": [
            "[array(['ello'], dtype='<U6'), array([], dtype='<U6'), array([], dtype='<U6'), array([], dtype='<U6'), array([], dtype='<U6'), array([], dtype='<U6'), array([], dtype='<U6'), array([], dtype='<U6'), array(['ello'], dtype='<U6')]\n",
            "[array([], dtype='<U6'), array(['ello'], dtype='<U6'), array([], dtype='<U6'), array([], dtype='<U6'), array([], dtype='<U6'), array([], dtype='<U6'), array([], dtype='<U6'), array([], dtype='<U6'), array(['ello'], dtype='<U6')]\n",
            "[array(['ello'], dtype='<U6'), array([], dtype='<U6'), array([], dtype='<U6'), array([], dtype='<U6'), array([], dtype='<U6'), array([], dtype='<U6'), array(['ello'], dtype='<U6'), array([], dtype='<U6'), array([], dtype='<U6')]\n",
            "[array([], dtype='<U6'), array([], dtype='<U6'), array([], dtype='<U6'), array(['ello'], dtype='<U6'), array(['ello'], dtype='<U6'), array(['ello'], dtype='<U6'), array(['ello'], dtype='<U6'), array([], dtype='<U6'), array(['ello'], dtype='<U6')]\n",
            "[array(['ello'], dtype='<U6'), array([], dtype='<U6'), array([], dtype='<U6'), array([], dtype='<U6'), array([], dtype='<U6'), array([], dtype='<U6'), array([], dtype='<U6'), array(['ello'], dtype='<U6'), array([], dtype='<U6')]\n",
            "[array([], dtype='<U6'), array([], dtype='<U6'), array(['ello'], dtype='<U6'), array([], dtype='<U6'), array([], dtype='<U6'), array([], dtype='<U6'), array(['ello'], dtype='<U6'), array([], dtype='<U6'), array([], dtype='<U6')]\n"
          ]
        }
      ],
      "source": [
        "for id,embedding in myDB.vector_documents.items():\n",
        "  print(my_vec.inverse_transform(embedding.reshape(-1,1)))"
      ]
    },
    {
      "cell_type": "code",
      "source": [
        "myDB.vector_documents.get('ad47f4f07b6631c98d9fd9af32dc4257')"
      ],
      "metadata": {
        "colab": {
          "base_uri": "https://localhost:8080/"
        },
        "id": "lBlnjlzIdTWa",
        "outputId": "43c4acac-ed1f-4b76-ff51-2759019e242d"
      },
      "execution_count": 30,
      "outputs": [
        {
          "output_type": "execute_result",
          "data": {
            "text/plain": [
              "tensor([0.7694, 0.0000, 0.0000, 0.0000, 0.0000, 0.0000, 0.6387, 0.0000, 0.0000],\n",
              "       dtype=torch.float64)"
            ]
          },
          "metadata": {},
          "execution_count": 30
        }
      ]
    },
    {
      "cell_type": "code",
      "execution_count": 46,
      "metadata": {
        "colab": {
          "base_uri": "https://localhost:8080/"
        },
        "id": "MqCrNFP7Hh8X",
        "outputId": "91e0cd1d-6a92-4662-8d1a-3917a97c6958"
      },
      "outputs": [
        {
          "output_type": "execute_result",
          "data": {
            "text/plain": [
              "tensor([[0.7694],\n",
              "        [0.0000],\n",
              "        [0.0000],\n",
              "        [0.0000],\n",
              "        [0.0000],\n",
              "        [0.0000],\n",
              "        [0.6387],\n",
              "        [0.0000],\n",
              "        [0.0000]], dtype=torch.float64)"
            ]
          },
          "metadata": {},
          "execution_count": 46
        }
      ],
      "source": [
        "my_vec.decode(myDB.vector_documents.get('ad47f4f07b6631c98d9fd9af32dc4257').reshape(-1,1))"
      ]
    },
    {
      "cell_type": "code",
      "execution_count": 23,
      "metadata": {
        "id": "tvsgaJsEMNFP"
      },
      "outputs": [],
      "source": []
    }
  ],
  "metadata": {
    "colab": {
      "provenance": []
    },
    "kernelspec": {
      "display_name": "Python 3",
      "name": "python3"
    },
    "language_info": {
      "name": "python"
    }
  },
  "nbformat": 4,
  "nbformat_minor": 0
}