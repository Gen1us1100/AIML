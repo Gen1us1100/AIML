{
  "cells": [
    {
      "cell_type": "markdown",
      "metadata": {
        "id": "dohJIqGBmSR1"
      },
      "source": [
        "# Vector Database from scratch\n",
        "A vector database is a collection of data stored as mathematical representations. Vector databases make it easier for machine learning models to remember previous inputs, allowing machine learning to be used to power search, recommendations, and text generation use-cases. Data can be identified based on similarity metrics instead of exact matches, making it possible for a computer model to understand data contextually."
      ]
    },
    {
      "cell_type": "code",
      "execution_count": 22,
      "metadata": {
        "id": "NbmLwH_2mD0Q"
      },
      "outputs": [],
      "source": [
        "import torch"
      ]
    },
    {
      "cell_type": "code",
      "source": [
        "from collections import defaultdict\n",
        "import hashlib as cryptolib\n",
        "import numpy as np\n",
        "from typing import Dict, Set, List, Tuple, Union\n",
        "import torch\n",
        "from torch import Tensor\n",
        "\n",
        "class VectorDB:\n",
        "    def __init__(self) -> None:\n",
        "        self.vector_documents: Dict[str, Tensor] = {}\n",
        "        self.document_ids: Set[str] = set()\n",
        "\n",
        "    def add_document(self, document: Dict[str, Union[str, Tensor]]) -> None:\n",
        "        doc_id: str = document['id']\n",
        "        doc_embedding: Tensor = document['text_embedding']\n",
        "\n",
        "        if doc_id not in self.document_ids:\n",
        "            self.document_ids.add(doc_id)\n",
        "            self.vector_documents[doc_id] = doc_embedding\n",
        "        else:\n",
        "            print(f\"Document with {doc_id} already exists in Database, Skipping\")\n",
        "\n",
        "    def create_document(self, text: str, embedding: Tensor) -> None:\n",
        "        document_hash: str = cryptolib.md5(text.encode('utf-8')).hexdigest()\n",
        "        new_document: Dict[str, Union[str, Tensor]] = {\n",
        "            'id': document_hash,\n",
        "            'text_embedding': embedding\n",
        "        }\n",
        "        self.add_document(new_document)\n",
        "\n",
        "    def find_similarity(self, embedding1: Tensor, embedding2: Tensor) -> float:\n",
        "        cos_similarity_score: float = torch.dot(embedding1.flatten(), embedding2.flatten()) / (\n",
        "            torch.norm(embedding1) * torch.norm(embedding2)\n",
        "        )\n",
        "        return float(cos_similarity_score)\n",
        "\n",
        "    def find_similar_documents(\n",
        "        self,\n",
        "        query_document: Dict[str, Union[str, Tensor]],\n",
        "        similarity_threshold: float = 0.5\n",
        "    ) -> List[Tuple[str, float]]:\n",
        "        similar_docs: List[Tuple[str, float]] = []\n",
        "\n",
        "        for id, text_embedding in self.vector_documents.items():\n",
        "            similarity = self.find_similarity(\n",
        "                query_document['text_embedding'],\n",
        "                text_embedding.flatten()\n",
        "            )\n",
        "            if similarity > similarity_threshold:\n",
        "                similar_docs.append((id, similarity))\n",
        "\n",
        "        similar_docs.sort(key=lambda x: x[1], reverse=True)\n",
        "        return similar_docs\n",
        "\n",
        "    def __len__(self) -> int:\n",
        "        return len(self.vector_documents)"
      ],
      "metadata": {
        "id": "kP9dDwVAAEcQ"
      },
      "execution_count": 23,
      "outputs": []
    },
    {
      "cell_type": "code",
      "execution_count": 24,
      "metadata": {
        "id": "5LHwKc1tzlip"
      },
      "outputs": [],
      "source": [
        "myDB = VectorDB()\n"
      ]
    },
    {
      "cell_type": "code",
      "execution_count": 25,
      "metadata": {
        "id": "nvLuahV50K9m"
      },
      "outputs": [],
      "source": [
        "from sklearn.feature_extraction.text import TfidfVectorizer as tfidfV\n"
      ]
    },
    {
      "cell_type": "code",
      "execution_count": 26,
      "metadata": {
        "colab": {
          "base_uri": "https://localhost:8080/"
        },
        "id": "Yf3WgcL41guK",
        "outputId": "6dcab68d-31f7-4c7e-b0b4-8dbbc9adb303"
      },
      "outputs": [
        {
          "output_type": "execute_result",
          "data": {
            "text/plain": [
              "array([0.70710678, 0.70710678])"
            ]
          },
          "metadata": {},
          "execution_count": 26
        }
      ],
      "source": [
        "docs = [\"hello world!\",\"ello Sam!\",\"Sam is part of world!\",\"ello Sameer!\",\"hellow Sam!\"]\n",
        "docs2 = [\"ello world!\"]\n",
        "my_vec = tfidfV()\n",
        "my_vec.fit(docs)\n",
        "embedding = my_vec.transform(docs2)\n",
        "embedding.data"
      ]
    },
    {
      "cell_type": "code",
      "execution_count": 27,
      "metadata": {
        "colab": {
          "base_uri": "https://localhost:8080/",
          "height": 35
        },
        "id": "vvDfXDw25wyX",
        "outputId": "1f9d6718-5797-4993-dde9-47d7ae21c03e"
      },
      "outputs": [
        {
          "output_type": "execute_result",
          "data": {
            "text/plain": [
              "'ello world!'"
            ],
            "application/vnd.google.colaboratory.intrinsic+json": {
              "type": "string"
            }
          },
          "metadata": {},
          "execution_count": 27
        }
      ],
      "source": [
        "docs2[0]"
      ]
    },
    {
      "cell_type": "code",
      "execution_count": 28,
      "metadata": {
        "id": "mIJoDKl-zp8W"
      },
      "outputs": [],
      "source": [
        "myDB.create_document(docs2[0],torch.tensor(embedding.toarray()))"
      ]
    },
    {
      "cell_type": "code",
      "execution_count": 29,
      "metadata": {
        "colab": {
          "base_uri": "https://localhost:8080/"
        },
        "id": "uxnMV8QG_Km2",
        "outputId": "01fd34a8-18ef-43ed-b0cc-125ffd937c87"
      },
      "outputs": [
        {
          "output_type": "execute_result",
          "data": {
            "text/plain": [
              "1"
            ]
          },
          "metadata": {},
          "execution_count": 29
        }
      ],
      "source": [
        "torch.tensor(embedding.toarray()).flatten().dim()"
      ]
    },
    {
      "cell_type": "code",
      "execution_count": 30,
      "metadata": {
        "colab": {
          "base_uri": "https://localhost:8080/"
        },
        "id": "nGqS6NPf3AmM",
        "outputId": "1980655e-0ce2-494a-ef99-480141d98d19"
      },
      "outputs": [
        {
          "output_type": "stream",
          "name": "stdout",
          "text": [
            "{'6e9bc20c0d778a0740d3e0396689909b': tensor([[0.7071, 0.0000, 0.0000, 0.0000, 0.0000, 0.0000, 0.0000, 0.0000, 0.7071]],\n",
            "       dtype=torch.float64)}\n"
          ]
        }
      ],
      "source": [
        "print(myDB.vector_documents)"
      ]
    },
    {
      "cell_type": "code",
      "execution_count": 31,
      "metadata": {
        "colab": {
          "base_uri": "https://localhost:8080/"
        },
        "id": "E-No877846_o",
        "outputId": "614051f9-3401-4f44-d740-9d249726afb5"
      },
      "outputs": [
        {
          "output_type": "stream",
          "name": "stdout",
          "text": [
            "1.0000000000000002\n"
          ]
        }
      ],
      "source": [
        "print(myDB.find_similarity(torch.tensor(embedding.toarray()).flatten(),torch.tensor(embedding.toarray()).flatten()))"
      ]
    },
    {
      "cell_type": "code",
      "execution_count": 32,
      "metadata": {
        "id": "FtzUVwNT93Q7"
      },
      "outputs": [],
      "source": [
        "for doc,embed in zip(docs,my_vec.transform(docs).toarray()):\n",
        "  # print(tor.tensor(embed))\n",
        "  myDB.create_document(doc,torch.tensor(embed))\n",
        "\n"
      ]
    },
    {
      "cell_type": "code",
      "execution_count": 33,
      "metadata": {
        "colab": {
          "base_uri": "https://localhost:8080/"
        },
        "id": "CrtBs0TwEyAx",
        "outputId": "cb2c550e-5c39-4672-af34-ad391bddb354"
      },
      "outputs": [
        {
          "output_type": "execute_result",
          "data": {
            "text/plain": [
              "{'6e9bc20c0d778a0740d3e0396689909b': tensor([[0.7071, 0.0000, 0.0000, 0.0000, 0.0000, 0.0000, 0.0000, 0.0000, 0.7071]],\n",
              "        dtype=torch.float64),\n",
              " 'fc3ff98e8c6a0d3087d515c0473f8677': tensor([0.0000, 0.7783, 0.0000, 0.0000, 0.0000, 0.0000, 0.0000, 0.0000, 0.6279],\n",
              "        dtype=torch.float64),\n",
              " 'ad47f4f07b6631c98d9fd9af32dc4257': tensor([0.7694, 0.0000, 0.0000, 0.0000, 0.0000, 0.0000, 0.6387, 0.0000, 0.0000],\n",
              "        dtype=torch.float64),\n",
              " '12858b34d0a1ae7f62cab1726b8304c6': tensor([0.0000, 0.0000, 0.0000, 0.4939, 0.4939, 0.4939, 0.3308, 0.0000, 0.3985],\n",
              "        dtype=torch.float64),\n",
              " 'ed42f068740c5dc1b4071dd04c657444': tensor([0.6279, 0.0000, 0.0000, 0.0000, 0.0000, 0.0000, 0.0000, 0.7783, 0.0000],\n",
              "        dtype=torch.float64),\n",
              " '40b72a3c4586ce1b6d5cc704161d2422': tensor([0.0000, 0.0000, 0.8309, 0.0000, 0.0000, 0.0000, 0.5565, 0.0000, 0.0000],\n",
              "        dtype=torch.float64)}"
            ]
          },
          "metadata": {},
          "execution_count": 33
        }
      ],
      "source": [
        "myDB.vector_documents"
      ]
    },
    {
      "cell_type": "code",
      "execution_count": 34,
      "metadata": {
        "id": "ljcRxwv0HUS7"
      },
      "outputs": [],
      "source": [
        "input_list = [\"ello Sam!\"]"
      ]
    },
    {
      "cell_type": "code",
      "execution_count": 35,
      "metadata": {
        "id": "ODqmx9avIiOV"
      },
      "outputs": [],
      "source": [
        "query = {'id':1,'text_embedding':torch.tensor(my_vec.transform(input_list).toarray()).flatten()}"
      ]
    },
    {
      "cell_type": "code",
      "execution_count": 36,
      "metadata": {
        "colab": {
          "base_uri": "https://localhost:8080/"
        },
        "id": "v99rKIMJI3mn",
        "outputId": "6ed94697-448f-44b0-ec2c-dacad36639aa"
      },
      "outputs": [
        {
          "output_type": "execute_result",
          "data": {
            "text/plain": [
              "1"
            ]
          },
          "metadata": {},
          "execution_count": 36
        }
      ],
      "source": [
        "query['text_embedding'].dim()"
      ]
    },
    {
      "cell_type": "code",
      "execution_count": 37,
      "metadata": {
        "colab": {
          "base_uri": "https://localhost:8080/"
        },
        "id": "4WdLZUq2GJFZ",
        "outputId": "c2117b58-bfdb-4c50-d24f-ec9cb68c1c3c"
      },
      "outputs": [
        {
          "output_type": "stream",
          "name": "stdout",
          "text": [
            "[('ad47f4f07b6631c98d9fd9af32dc4257', 1.0), ('6e9bc20c0d778a0740d3e0396689909b', 0.5440812430630018)]\n"
          ]
        }
      ],
      "source": [
        "print(myDB.find_similar_documents(query))"
      ]
    },
    {
      "cell_type": "code",
      "execution_count": 38,
      "metadata": {
        "colab": {
          "base_uri": "https://localhost:8080/"
        },
        "id": "kJ7fg3IyM0Cu",
        "outputId": "5f18f2fc-2de0-4bc3-d11b-62ce8670788b"
      },
      "outputs": [
        {
          "output_type": "stream",
          "name": "stdout",
          "text": [
            "[array(['ello'], dtype='<U6'), array([], dtype='<U6'), array([], dtype='<U6'), array([], dtype='<U6'), array([], dtype='<U6'), array([], dtype='<U6'), array([], dtype='<U6'), array([], dtype='<U6'), array(['ello'], dtype='<U6')]\n",
            "[array([], dtype='<U6'), array(['ello'], dtype='<U6'), array([], dtype='<U6'), array([], dtype='<U6'), array([], dtype='<U6'), array([], dtype='<U6'), array([], dtype='<U6'), array([], dtype='<U6'), array(['ello'], dtype='<U6')]\n",
            "[array(['ello'], dtype='<U6'), array([], dtype='<U6'), array([], dtype='<U6'), array([], dtype='<U6'), array([], dtype='<U6'), array([], dtype='<U6'), array(['ello'], dtype='<U6'), array([], dtype='<U6'), array([], dtype='<U6')]\n",
            "[array([], dtype='<U6'), array([], dtype='<U6'), array([], dtype='<U6'), array(['ello'], dtype='<U6'), array(['ello'], dtype='<U6'), array(['ello'], dtype='<U6'), array(['ello'], dtype='<U6'), array([], dtype='<U6'), array(['ello'], dtype='<U6')]\n",
            "[array(['ello'], dtype='<U6'), array([], dtype='<U6'), array([], dtype='<U6'), array([], dtype='<U6'), array([], dtype='<U6'), array([], dtype='<U6'), array([], dtype='<U6'), array(['ello'], dtype='<U6'), array([], dtype='<U6')]\n",
            "[array([], dtype='<U6'), array([], dtype='<U6'), array(['ello'], dtype='<U6'), array([], dtype='<U6'), array([], dtype='<U6'), array([], dtype='<U6'), array(['ello'], dtype='<U6'), array([], dtype='<U6'), array([], dtype='<U6')]\n"
          ]
        }
      ],
      "source": [
        "for id,embedding in myDB.vector_documents.items():\n",
        "  print(my_vec.inverse_transform(embedding.reshape(-1,1)))"
      ]
    },
    {
      "cell_type": "code",
      "source": [
        "myDB.vector_documents.get('ad47f4f07b6631c98d9fd9af32dc4257')"
      ],
      "metadata": {
        "colab": {
          "base_uri": "https://localhost:8080/"
        },
        "id": "lBlnjlzIdTWa",
        "outputId": "8f292bb6-71a3-40d0-d51c-1a57935f3c67"
      },
      "execution_count": 39,
      "outputs": [
        {
          "output_type": "execute_result",
          "data": {
            "text/plain": [
              "tensor([0.7694, 0.0000, 0.0000, 0.0000, 0.0000, 0.0000, 0.6387, 0.0000, 0.0000],\n",
              "       dtype=torch.float64)"
            ]
          },
          "metadata": {},
          "execution_count": 39
        }
      ]
    },
    {
      "cell_type": "code",
      "execution_count": 40,
      "metadata": {
        "colab": {
          "base_uri": "https://localhost:8080/"
        },
        "id": "MqCrNFP7Hh8X",
        "outputId": "e0f0563b-2b4c-40a4-feb4-19ed69b1b75f"
      },
      "outputs": [
        {
          "output_type": "execute_result",
          "data": {
            "text/plain": [
              "tensor([[0.7694],\n",
              "        [0.0000],\n",
              "        [0.0000],\n",
              "        [0.0000],\n",
              "        [0.0000],\n",
              "        [0.0000],\n",
              "        [0.6387],\n",
              "        [0.0000],\n",
              "        [0.0000]], dtype=torch.float64)"
            ]
          },
          "metadata": {},
          "execution_count": 40
        }
      ],
      "source": [
        "my_vec.decode(myDB.vector_documents.get('ad47f4f07b6631c98d9fd9af32dc4257').reshape(-1,1))"
      ]
    },
    {
      "cell_type": "code",
      "execution_count": 40,
      "metadata": {
        "id": "tvsgaJsEMNFP"
      },
      "outputs": [],
      "source": []
    }
  ],
  "metadata": {
    "colab": {
      "provenance": []
    },
    "kernelspec": {
      "display_name": "Python 3",
      "name": "python3"
    },
    "language_info": {
      "name": "python"
    }
  },
  "nbformat": 4,
  "nbformat_minor": 0
}